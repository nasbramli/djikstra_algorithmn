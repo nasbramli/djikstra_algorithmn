{
  "nbformat": 4,
  "nbformat_minor": 0,
  "metadata": {
    "colab": {
      "provenance": []
    },
    "kernelspec": {
      "name": "python3",
      "display_name": "Python 3"
    },
    "language_info": {
      "name": "python"
    }
  },
  "cells": [
    {
      "cell_type": "markdown",
      "source": [
        "Djikstra"
      ],
      "metadata": {
        "id": "k2kSStj9R4SD"
      }
    },
    {
      "cell_type": "code",
      "execution_count": null,
      "metadata": {
        "id": "ribCntH5RxgQ"
      },
      "outputs": [],
      "source": [
        "import numpy as np\n",
        "import pandas as pd\n",
        "import math\n",
        "import random\n",
        "from random import randint\n",
        "import matplotlib.pyplot as plt\n",
        "import time\n",
        "import heapq\n",
        "import networkx as nx"
      ]
    },
    {
      "cell_type": "markdown",
      "source": [
        "Helper Functions"
      ],
      "metadata": {
        "id": "FNeX0i2ISX5g"
      }
    },
    {
      "cell_type": "code",
      "source": [
        "#function that creates the graphs g1 and g2, where g1 is the adjacency matrix represent\n",
        "def make_graph(NUMBER_NODES, NUMBER_EDGES):\n",
        "  print(\"Impossible to generate a simple graph with %i nodes and %i edges!\\n\")\n",
        "  return None\n",
        "\n",
        "  g2=[[] for i in range(NUMBER_NODES)]\n",
        "  for i in range(NUMBER_EDGES):\n",
        "    while True:\n",
        "      start_node = randint(0, NUMBER_NODES-1)\n",
        "      end_node = randint(0, NUMBER_NODES-1)\n",
        "      weight = randint(1, 20)\n",
        "      if (start_node != end_node):\n",
        "        found = False\n",
        "        for j in range(len(g2[start_node])):\n",
        "          if g2[start_node][j][0] == end_node:\n",
        "            found = True\n",
        "          if not found: break\n",
        "    g2[start_node].append([end_node, weight])\n",
        "    g2[end_node].append([start_node, weight])\n",
        "\n",
        "  g1 = np.array([[0 for i in range(NUMBER_NODES)] for i in range(NUMBER_NODES)])\n",
        "  for i in range(len(g2)):\n",
        "    for j in range(len(g2[i])):\n",
        "      node = g2[i][j][0]\n",
        "      weight = g2[i][j][1]\n",
        "      g1[i][node] = weight\n",
        "  return g1, g2\n",
        "\n",
        "#function that prints the graph and plots it\n",
        "def print_graph(g1, g2):\n",
        "  print(\"Adjacency Matrix:\")\n",
        "  print(g1)\n",
        "\n",
        "  print(\"Adjacency Matrix\")\n",
        "  for i in range(len(g2)):\n",
        "    print('from node %02i:' %(i), end ='')\n",
        "    print(g2[i])\n",
        "\n",
        "  # plot the graph visually\n",
        "  G =nx.Graph()\n",
        "  for i in range(len(g2)): G.add_node(i)\n",
        "  for i in range(len(g2)):\n",
        "    for j in range(len(g2[i])):\n",
        "      G.add_edge(i, g2[i][j][0], weight=g2[i][j][1])\n",
        "  try:\n",
        "    pos = nx.planar_layout(G)\n",
        "    nx.draw(G, pos, with_labels=True)\n",
        "  except nx.NetworkException:\n",
        "    print('\\nGraph is not planar,using alternative representation')\n",
        "    pos = nx.spring_layout(G)\n",
        "    nx.draw(G,pos, with_labels=True)\n",
        "  labels = nx.get_edge_attributions(G,'weight')\n",
        "  nx.draw_networks_edge_labels(G,pos, edge_labels=labels)"
      ],
      "metadata": {
        "id": "1AOjZPlySbn6"
      },
      "execution_count": null,
      "outputs": []
    },
    {
      "cell_type": "markdown",
      "source": [
        "Priority Queue using array"
      ],
      "metadata": {
        "id": "m7FWWWauhK39"
      }
    },
    {
      "cell_type": "code",
      "source": [
        "#implementation of priority queue using an array\n",
        "\n",
        "class PriorityQueueArray(object):\n",
        "  def __init__(self):\n",
        "    self.queue = []\n",
        "\n",
        "  def __str__(self):\n",
        "    return ''.join([str(i) for i in self.queue])\n",
        "\n",
        "  #for checking if the queue is empty\n",
        "  def isEmpty(self):\n",
        "    return len(self.queue) == 0\n",
        "\n",
        "  def length(self):\n",
        "    return len(self.queue)\n",
        "\n",
        "  #for popping an element based in priority\n",
        "  def pop(self):\n",
        "    try:\n",
        "      min = -1\n",
        "      for i in range(len(self.queue)):\n",
        "        if self.queue[i][0] < self.queue[min][0]: #O(|V|)\n",
        "          min = i\n",
        "      item = self.queue[min]\n",
        "      del self.queue[min]\n",
        "      return item\n",
        "    except IndexError:\n",
        "      print()\n",
        "      exit()\n",
        "\n",
        "  def remove(self,x):\n",
        "    for i in range(len(self.queue)):\n",
        "      if self.queue[i][1] == x:\n",
        "        del self.queue[i]\n",
        "        break"
      ],
      "metadata": {
        "id": "aQJDxTwOhPVS"
      },
      "execution_count": null,
      "outputs": []
    },
    {
      "cell_type": "markdown",
      "source": [
        "Dijkstra Algorithm - Adjacent Matrix, Array Priority Queue"
      ],
      "metadata": {
        "id": "aRC4matJlsqP"
      }
    },
    {
      "cell_type": "code",
      "source": [
        "#function that implements the Dijkstra's algorithm for single-pair shortest path using\n",
        "def dijkstra_adj_matrix_array(g, source):\n",
        "  d = [math.ing for i in range(len(g))]\n",
        "  S = [0 for i in range(len(g))]\n",
        "  pi = [-1 for x in range(len(g))]\n",
        "\n",
        "  d[0] = 0\n",
        "\n",
        "  pq = PriorityQueueArray()\n",
        "  for v in range(len(g)):\n",
        "    pq.insert([d[v], v]) #initializing: O(\\V\\)\n",
        "\n",
        "  while not pq.isEmpty():\n",
        "    u = pq.pop()\n",
        "\n",
        "    S[u[1]] = 1 #Extracting Min: O(/v/) * V Iterations = O(/V * V/) = O(/V/^2)\n",
        "\n",
        "    # check all vertices adjacent to u: O(1)\n",
        "    # Loop through all the neighbours: V*V Times, since its a matrix. O(/V*V/)\n",
        "\n",
        "    for v in range(len(g[u[1],:])):\n",
        "      if g[u[1]][v]!=0:\n",
        "        if (S[v]!=1 and d[v]>d[u[1]]+g[u[1]][v]):\n",
        "          #search for and remove v from queue. O(/E/) Check for every edge.\n",
        "          for x in range(pq.length()):\n",
        "            if(pq.queue[x][1]==v):\n",
        "              pq.remove(x)\n",
        "              break\n",
        "          d[v]=d[u[1]]+g[u[1]][v] #update estimated distance\n",
        "          pi[v] = u[1] #update predecessor\n",
        "          pq.insert([d[v], v])"
      ],
      "metadata": {
        "id": "nNr7hG2Ol101"
      },
      "execution_count": null,
      "outputs": []
    },
    {
      "cell_type": "code",
      "source": [
        "import time\n",
        "import numpy as np\n",
        "import matplotlib.pyplot as plt\n",
        "\n",
        "#function to generarte a random graph as an adjacency matrix\n",
        "def generate_graph(n):\n",
        "  graph = np.random.randint(0, 10, size=(n, n))\n",
        "  graph = np.tril(graph) + np.tril(graph, -1).T\n",
        "  np.fill_diagonal(graph, 0)\n",
        "  return graph\n",
        "\n",
        "#function to find vertex with minimum distance value, from the set of vertices not\n",
        "def min_distance(dist, sptSet, V):\n",
        "  min_dist = float('inf')\n",
        "  min_vertex = 0\n",
        "\n",
        "  for v in range(V):\n",
        "    if dist[v] < min_dist and sptSet[v] == False:\n",
        "      min_dist = dist[v]\n",
        "      min_vertex = v\n",
        "\n",
        "  return min_vertex\n",
        "\n",
        "#function to implement Djikstra's algorithm\n",
        "def dijkstra(adj_matrix, source, target, V):\n",
        "  #initialise all distances as infinity and sptSet as False\n",
        "  dist = [float('inf')]*V\n",
        "  sptSet = [False]*V\n",
        "  parent = [-1]*V\n",
        "\n",
        "  #distance of source vertex from itself is always 0\n",
        "  dist[source] = 0\n",
        "\n",
        "  #iterate V-1 times to find the shortest path for all vertices\n",
        "  for _ in range(V-1):\n",
        "    #find the vertext with minimum distance value from the set of vertices not\n",
        "    u = min_distance(dist, sptSet, V)\n",
        "    #mark the selected vertex as processed\n",
        "    sptSet[u] = True\n",
        "\n",
        "    #update distance value of adjacent vertices of the selected vertex\n",
        "    for v in range(V):\n",
        "      if adj_matrix[u][v] > 0 and sptSet[v] == False and dist[v] > dist[u]+adj_matrix[u][v]:\n",
        "        dist[v] = dist[u] + adj_matrix[u][v]\n",
        "        parent[v] = u\n",
        "\n",
        "  #return the shortest distance from source to target\n",
        "  return dist[target]\n",
        "\n",
        "if __name__ == '__main__':\n",
        "  #set the range of vertives to test\n",
        "  n_vertices = range(10, 110, 10)\n",
        "  #set the number of repititions for each vertext count\n",
        "  n_repetitions = 10\n",
        "  #initializr an empty list to store the running times\n",
        "  running_times = []\n",
        "\n",
        "  for n in n_vertices:\n",
        "    #generate a random graph as an adjacency matrix\n",
        "    graph = generate_graph(n)\n",
        "\n",
        "    #iniialize the running time for this vertex count\n",
        "    start_time = time.time()\n",
        "\n",
        "    #repeat the experiment for the given number of repititions\n",
        "    for _ in range(n_repetitions):\n",
        "      # randomly select source and target vertices\n",
        "      source, target = np.random.randint(0, n, size=2)\n",
        "      # run Dijkstra's algorithm on the graph\n",
        "      dijkstra(graph, source, target, n)\n",
        "\n",
        "    # calculate the average running time for this vertex count\n",
        "    avg_time = (time.time() - start_time)/n_repetitions\n",
        "    running_times.append(avg_time)\n",
        "\n",
        "  # plot the running times as a function of the number of vertices\n",
        "  plt.plot(n_vertices, running_times, 'o-')\n",
        "  plt.xlabel('Number of vertices')\n",
        "  plt.ylabel('Running time (seconds)')\n",
        "  plt.title('Dijkstra\\'s algorithm on adjacency matrix with array priority queue')\n",
        "  plt.show()\n"
      ],
      "metadata": {
        "colab": {
          "base_uri": "https://localhost:8080/",
          "height": 295
        },
        "id": "3tVhp4kNsHBu",
        "outputId": "558e046d-5eef-4181-fa0a-90ed788077b7"
      },
      "execution_count": null,
      "outputs": [
        {
          "output_type": "display_data",
          "data": {
            "text/plain": [
              "<Figure size 432x288 with 1 Axes>"
            ],
            "image/png": "[encoded data removed]"
          },
          "metadata": {
            "needs_background": "light"
          }
        }
      ]
    },
    {
      "cell_type": "code",
      "source": [
        "if __name__ =='__main__':\n",
        "  NODES = [x for x in range(5, 11)]\n",
        "  EDGES = 12\n",
        "  times = []\n",
        "  adj_list  = make_graph(NODES, EDGES)\n",
        "  adj_matrix = make_graph(NODES, EDGES)\n",
        "\n",
        "  if adj_matrix == None:\n",
        "    raise SystemExit(0)\n",
        "\n",
        "    start_time1 = time.time()\n",
        "    dl = dijkstra_adj_matrix_array(g1, 0)\n",
        "    end_time1 = time.time()\n",
        "\n",
        "    print(d1)\n",
        "    print('Time taken:', format(end_time1-start_time1))"
      ],
      "metadata": {
        "colab": {
          "base_uri": "https://localhost:8080/",
          "height": 215
        },
        "id": "dROV7_n9xLWl",
        "outputId": "0999f061-fa33-456e-fcb7-f9eea7d3a20e"
      },
      "execution_count": null,
      "outputs": [
        {
          "output_type": "stream",
          "name": "stdout",
          "text": [
            "Impossible to generate a simple graph with %i nodes and %i edges!\n",
            "\n",
            "Impossible to generate a simple graph with %i nodes and %i edges!\n",
            "\n"
          ]
        },
        {
          "output_type": "error",
          "ename": "SystemExit",
          "evalue": "ignored",
          "traceback": [
            "An exception has occurred, use %tb to see the full traceback.\n",
            "\u001b[0;31mSystemExit\u001b[0m\u001b[0;31m:\u001b[0m 0\n"
          ]
        },
        {
          "output_type": "stream",
          "name": "stderr",
          "text": [
            "/usr/local/lib/python3.8/dist-packages/IPython/core/interactiveshell.py:3334: UserWarning: To exit: use 'exit', 'quit', or Ctrl-D.\n",
            "  warn(\"To exit: use 'exit', 'quit', or Ctrl-D.\", stacklevel=1)\n"
          ]
        }
      ]
    },
    {
      "cell_type": "markdown",
      "source": [
        "(b) Suppose the input graph G = (V, E) is stored in an array of adjacency lists and"
      ],
      "metadata": {
        "id": "IGNoON_PxcJX"
      }
    },
    {
      "cell_type": "markdown",
      "source": [
        "we use a minimizing heap for the priority queue. Implement the Dijkstra’s algorithm using this setting and analyze its time complexity with respect to |V| and |E| both theoretically and empirically."
      ],
      "metadata": {
        "id": "tEhMAcKaxkDX"
      }
    },
    {
      "cell_type": "markdown",
      "source": [
        "Dijkstra Algorithm - Adjacent List, Min Heap Priority Queue"
      ],
      "metadata": {
        "id": "c4zewYppxnmC"
      }
    },
    {
      "cell_type": "code",
      "source": [
        "# function that implements the Dijkstra's algorithm for single-pair shortest paths using adjacency list and min heap priority queue\n",
        "def dijkstra_adj_list_min_heap(g, source):\n",
        "\n",
        "    # initialise S(pathed vertices), d(estimates of lengths), and pi(predecessors for each vertex)\n",
        "    S = [0 for x in range(len(g))]\n",
        "    d = [math.inf for x in range(len(g))]\n",
        "    pi = [-1 for x in range(len(g))]\n",
        "    d[source] = 0\n",
        "\n",
        "    # initialise priority queue: O|V|\n",
        "    pq = [(d[v], v) for v in range(len(g))]\n",
        "\n",
        "    # push all edges from node source to queue in format (weight, destination node)\n",
        "    heapq.heapify(pq)\n",
        "    while(pq):\n",
        "        # get closest estimated node: O(|V|log|V|) -> Fix Heap for all V vertices.\n",
        "        u = heapq.heappop(pq)\n",
        "        S[u[1]] = 1\n",
        "        # check all vertices adjacent to u\n",
        "        for v in g[u[1]]:\n",
        "            if(S[v[0]]!=1 and d[v[0]]>d[u[1]]+v[1]):\n",
        "                # search for and remove v from queue\n",
        "                for x in range(len(pq)):\n",
        "                    if(pq[x][1]==v):\n",
        "                        pq.pop(x)\n",
        "                d[v[0]] = d[u[1]]+v[1] #update estimated distance\n",
        "                pi[v[0]] = u[1] #update predecessor\n",
        "                heapq.heappush(pq, (d[v[0]], v[0])) # push updated v into queue: O(|E|log|V|) -> Fix Heap for all E edges.\n",
        "    return d"
      ],
      "metadata": {
        "id": "Vz4owBvTxrNg"
      },
      "execution_count": null,
      "outputs": []
    },
    {
      "cell_type": "code",
      "source": [
        "import time\n",
        "import matplotlib.pyplot as plt\n",
        "import random\n",
        "import math\n",
        "import heapq\n",
        "\n",
        "def create_random_graph(v, e):\n",
        "    graph = [[] for _ in range(v)]\n",
        "    edges = set()\n",
        "    while len(edges) < e:\n",
        "        a, b = random.randint(0, v-1), random.randint(0, v-1)\n",
        "        if a != b:\n",
        "            if a > b:\n",
        "                a, b = b, a\n",
        "            edges.add((a, b, random.randint(1, 100)))\n",
        "    for a, b, w in edges:\n",
        "        graph[a].append((b, w))\n",
        "        graph[b].append((a, w))\n",
        "    return graph\n",
        "\n",
        "def dijkstra_adj_list_min_heap(g, source):\n",
        "\n",
        "    # initialise S(pathed vertices), d(estimates of lengths), and pi(predecessors for each vertex)\n",
        "    S = [0 for x in range(len(g))]\n",
        "    d = [math.inf for x in range(len(g))]\n",
        "    pi = [-1 for x in range(len(g))]\n",
        "    d[source] = 0\n",
        "\n",
        "    # initialise priority queue: O|V|\n",
        "    pq = [(d[v], v) for v in range(len(g))]\n",
        "\n",
        "    # push all edges from node source to queue in format (weight, destination node)\n",
        "    heapq.heapify(pq)\n",
        "    while(pq):\n",
        "        # get closest estimated node: O(|V|log|V|) -> Fix Heap for all V vertices.\n",
        "        u = heapq.heappop(pq)\n",
        "        S[u[1]] = 1\n",
        "        # check all vertices adjacent to u\n",
        "        for v in g[u[1]]:\n",
        "            if(S[v[0]]!=1 and d[v[0]]>d[u[1]]+v[1]):\n",
        "                # search for and remove v from queue\n",
        "                for x in range(len(pq)):\n",
        "                    if(pq[x][1]==v):\n",
        "                        pq.pop(x)\n",
        "                d[v[0]] = d[u[1]]+v[1] #update estimated distance\n",
        "                pi[v[0]] = u[1] #update predecessor\n",
        "                heapq.heappush(pq, (d[v[0]], v[0])) # push updated v into queue: O(|E|log|V|) -> Fix Heap for all E edges.\n",
        "    return d\n",
        "\n",
        "def measure_running_time():\n",
        "    n_values = [10, 20, 30, 40, 50]\n",
        "    e_values = [int(n*(n-1)/2) for n in n_values]\n",
        "\n",
        "    # measure running time for different values of |V| and |E|\n",
        "    running_time = []\n",
        "    for i in range(len(n_values)):\n",
        "        n = n_values[i]\n",
        "        e = e_values[i]\n",
        "        graph = create_random_graph(n, e)\n",
        "        start_time = time.time()\n",
        "        dijkstra_adj_list_min_heap(graph, 0)\n",
        "        end_time = time.time()\n",
        "        running_time.append(end_time - start_time)\n",
        "\n",
        "    # plot the results\n",
        "    plt.plot(n_values, running_time, label='|E|=O(|V|^2)')\n",
        "    plt.xlabel('|V|')\n",
        "    plt.ylabel('Running Time (s)')\n",
        "    plt.title('Dijkstra with adjacency list and min heap')\n",
        "    plt.legend()\n",
        "    plt.show()\n",
        "\n",
        "measure_running_time()"
      ],
      "metadata": {
        "colab": {
          "base_uri": "https://localhost:8080/",
          "height": 296
        },
        "id": "jhrq_uU9xu3U",
        "outputId": "9345f844-66cb-4443-a5ad-88d3b97b7bc7"
      },
      "execution_count": null,
      "outputs": [
        {
          "output_type": "display_data",
          "data": {
            "text/plain": [
              "<Figure size 432x288 with 1 Axes>"
            ],
            "image/png": "[encoded data removed]"
          },
          "metadata": {
            "needs_background": "light"
          }
        }
      ]
    },
    {
      "cell_type": "code",
      "source": [
        "import matplotlib.pyplot as plt\n",
        "import numpy as np\n",
        "\n",
        "V = np.arange(1, 1000, 50)\n",
        "E = 2*V\n",
        "\n",
        "t = (E+V)*np.log(V)\n",
        "\n",
        "plt.plot(V, t, label='O((E+V)log(V))')\n",
        "plt.xlabel('Number of vertices V')\n",
        "plt.ylabel('Running time (ms)')\n",
        "plt.legend()\n",
        "plt.show()"
      ],
      "metadata": {
        "colab": {
          "base_uri": "https://localhost:8080/",
          "height": 279
        },
        "id": "p9WvRHg7x029",
        "outputId": "c3da0a62-de4a-402d-b0e8-62e324ac0420"
      },
      "execution_count": null,
      "outputs": [
        {
          "output_type": "display_data",
          "data": {
            "text/plain": [
              "<Figure size 432x288 with 1 Axes>"
            ],
            "image/png": "[encoded data removed]"
          },
          "metadata": {
            "needs_background": "light"
          }
        }
      ]
    },
    {
      "cell_type": "markdown",
      "source": [
        "(c) Compare the two implementations in (a) and (b). Discuss which implementation is better and in what circumstances"
      ],
      "metadata": {
        "id": "BPbpaNJbx55q"
      }
    },
    {
      "cell_type": "code",
      "source": [
        "NODES = 8         # defines number of nodes in the graph\n",
        "EDGES = 12         # defines number of edges in the graph\n",
        "\n",
        "print(\"\\n\\n ******** GENERATING GRAPH ********\" )\n",
        "g1 = make_graph(NODES,EDGES)\n",
        "g2 = make_graph(NODES,EDGES)\n",
        "if g2==None: raise SystemExit(0)\n",
        "elif NODES<50 and EDGES<2500:\n",
        "    plt.figure(1,figsize=(10,10))\n",
        "    print_graph(g1, g2)\n",
        "\n",
        "print(\"\\n\\n ******** PERFORMING DIJKSTRA ********\" )\n",
        "start_time1 = time.time()\n",
        "d1 = dijkstra_adj_matrix_array(g1, 0)\n",
        "end_time1 = time.time()\n",
        "\n",
        "print(\"Using Adjacency Matrix and Array Priority Queue: \")\n",
        "print(d1)\n",
        "print(\"Time taken: \", format(end_time1-start_time1))\n",
        "\n",
        "start_time2 = time.time()\n",
        "d2 = dijkstra_adj_list_min_heap(g2, 0)\n",
        "end_time2 = time.time()\n",
        "\n",
        "print(\"Using Adjacency List and Min Heap Priority Queue: \")\n",
        "print(d2)\n",
        "print(\"Time taken: \", format(end_time2-start_time2))"
      ],
      "metadata": {
        "colab": {
          "base_uri": "https://localhost:8080/",
          "height": 232
        },
        "id": "YBUkzgeGx-qu",
        "outputId": "031f065d-d3a9-4ddb-c7f2-9bbf32adbc4c"
      },
      "execution_count": null,
      "outputs": [
        {
          "output_type": "stream",
          "name": "stdout",
          "text": [
            "\n",
            "\n",
            " ******** GENERATING GRAPH ********\n",
            "Impossible to generate a simple graph with %i nodes and %i edges!\n",
            "\n",
            "Impossible to generate a simple graph with %i nodes and %i edges!\n",
            "\n"
          ]
        },
        {
          "output_type": "error",
          "ename": "SystemExit",
          "evalue": "ignored",
          "traceback": [
            "An exception has occurred, use %tb to see the full traceback.\n",
            "\u001b[0;31mSystemExit\u001b[0m\u001b[0;31m:\u001b[0m 0\n"
          ]
        }
      ]
    },
    {
      "cell_type": "code",
      "source": [
        "#Sparse case\n",
        "df1 = pd.DataFrame(columns=[\"Nodes\", \"Adj_Matrix_Array\", \"Adj_List_Min_Heap\"])\n",
        "for nodes in range(10, 101, 1):\n",
        "    g1_times = []\n",
        "    g2_times = []\n",
        "\n",
        "    # generate graphs\n",
        "    g1 = make_graph(nodes, nodes)\n",
        "    g2 = make_graph(nodes, nodes)\n",
        "\n",
        "    for _ in range(100):\n",
        "        start_time1 = time.time()\n",
        "        d1 = dijkstra_adj_matrix_array(g1, 0)\n",
        "        end_time1 = time.time()\n",
        "        g1_times.append(end_time1-start_time1)\n",
        "\n",
        "        start_time2 = time.time()\n",
        "        d2 = dijkstra_adj_list_min_heap(g2, 0)\n",
        "        end_time2 = time.time()\n",
        "        g2_times.append(end_time2-start_time2)\n",
        "\n",
        "    df1 = pd.concat([df1, pd.DataFrame.from_records([{\"Nodes\": nodes, \"Adj_Matrix_Array\": np.mean(g1_times), \"Adj_List_Min_Heap\": np.mean(g2_times)}])])\n",
        "    # df1.append({\"Nodes\": nodes, \"Adj_Matrix_Array\": np.mean(g1_times), \"Adj_List_Min_Heap\": np.mean(g2_times)}, ignore_index = True)\n",
        "\n",
        "\n",
        "#Dense case\n",
        "df2 = pd.DataFrame(columns=[\"Nodes\", \"Adj_Matrix_Array\", \"Adj_List_Min_Heap\"])\n",
        "for nodes in range(10, 101, 1):\n",
        "    g1_times = []\n",
        "    g2_times = []\n",
        "\n",
        "    # generate graphs\n",
        "    g1, g2 = make_graph(nodes, int(nodes*(nodes-1)/2))\n",
        "\n",
        "    for _ in range(100):\n",
        "        start_time1 = time.time()\n",
        "        d1 = dijkstra_adj_matrix_array(g1, 0)\n",
        "        end_time1 = time.time()\n",
        "        g1_times.append(end_time1-start_time1)\n",
        "\n",
        "        start_time2 = time.time()\n",
        "        d2 = dijkstra_adj_list_min_heap(g2, 0)\n",
        "        end_time2 = time.time()\n",
        "        g2_times.append(end_time2-start_time2)\n",
        "    df2 = pd.concat([df2, pd.DataFrame.from_records([{\"Nodes\": nodes, \"Adj_Matrix_Array\": np.mean(g1_times), \"Adj_List_Min_Heap\": np.mean(g2_times)}])])\n",
        "    # df2.append({\"Nodes\": nodes, \"Adj_Matrix_Array\": np.mean(g1_times), \"Adj_List_Min_Heap\": np.mean(g2_times)}, ignore_index = True)\n",
        "\n",
        "\n",
        "#Average case\n",
        "df3 = pd.DataFrame(columns=[\"Nodes\", \"Adj_Matrix_Array\", \"Adj_List_Min_Heap\"])\n",
        "for nodes in range(10, 101, 1):\n",
        "    g1_times = []\n",
        "    g2_times = []\n",
        "\n",
        "    # generate graphs\n",
        "    g1, g2 = make_graph(nodes, int(nodes*(nodes-1)/4))\n",
        "\n",
        "    for _ in range(100):\n",
        "        start_time1 = time.time()\n",
        "        d1 = dijkstra_adj_matrix_array(g1, 0)\n",
        "        end_time1 = time.time()\n",
        "        g1_times.append(end_time1-start_time1)\n",
        "\n",
        "        start_time2 = time.time()\n",
        "        d2 = dijkstra_adj_list_min_heap(g2, 0)\n",
        "        end_time2 = time.time()\n",
        "        g2_times.append(end_time2-start_time2)\n",
        "    df3 = pd.concat([df3, pd.DataFrame.from_records([{\"Nodes\": nodes, \"Adj_Matrix_Array\": np.mean(g1_times), \"Adj_List_Min_Heap\": np.mean(g2_times)}])])\n",
        "    # df3.append({\"Nodes\": nodes, \"Adj_Matrix_Array\": np.mean(g1_times), \"Adj_List_Min_Heap\": np.mean(g2_times)}, ignore_index = True)\n",
        "\n",
        "plt.figure(figsize = (8,8))\n",
        "plt.title(\"Sparse case\")\n",
        "plt.plot(df1.Nodes, df1.Adj_Matrix_Array, label=\"Adj_Matrix_Array\")\n",
        "plt.plot(df1.Nodes, df1.Adj_List_Min_Heap, label = \"Adj_List_Min_Heap\")\n",
        "plt.xticks(np.arange(min(df1.Nodes), max(df1.Nodes)+1, 10))\n",
        "plt.yticks(np.arange(0.000, 0.040, 0.005))\n",
        "plt.xlabel(\"Nodes\")\n",
        "plt.ylabel(\"Time (s)\")\n",
        "plt.legend()\n",
        "plt.show()\n",
        "\n",
        "plt.figure(figsize = (8,8))\n",
        "plt.title(\"Dense case\")\n",
        "plt.plot(df2.Nodes, df2.Adj_Matrix_Array, label=\"Adj_Matrix_Array\")\n",
        "plt.plot(df2.Nodes, df2.Adj_List_Min_Heap, label = \"Adj_List_Min_Heap\")\n",
        "plt.xticks(np.arange(min(df2.Nodes), max(df2.Nodes)+1, 10))\n",
        "plt.yticks(np.arange(0.000, 0.040, 0.005))\n",
        "plt.xlabel(\"Nodes\")\n",
        "plt.ylabel(\"Time (s)\")\n",
        "plt.legend()\n",
        "plt.show()\n",
        "\n",
        "plt.figure(figsize = (8,8))\n",
        "plt.title(\"Average case\")\n",
        "plt.plot(df3.Nodes, df3.Adj_Matrix_Array, label=\"Adj_Matrix_Array\")\n",
        "plt.plot(df3.Nodes, df3.Adj_List_Min_Heap, label = \"Adj_List_Min_Heap\")\n",
        "plt.xticks(np.arange(min(df3.Nodes), max(df3.Nodes)+1, 10))\n",
        "plt.yticks(np.arange(0.000, 0.040, 0.005))\n",
        "plt.xlabel(\"Nodes\")\n",
        "plt.ylabel(\"Time (s)\")\n",
        "plt.legend()\n",
        "plt.show()"
      ],
      "metadata": {
        "colab": {
          "base_uri": "https://localhost:8080/",
          "height": 470
        },
        "id": "ODK1lniQyCjI",
        "outputId": "b549e661-0304-491b-f134-5dee29be8f38"
      },
      "execution_count": null,
      "outputs": [
        {
          "output_type": "stream",
          "name": "stdout",
          "text": [
            "Impossible to generate a simple graph with %i nodes and %i edges!\n",
            "\n",
            "Impossible to generate a simple graph with %i nodes and %i edges!\n",
            "\n"
          ]
        },
        {
          "output_type": "error",
          "ename": "TypeError",
          "evalue": "ignored",
          "traceback": [
            "\u001b[0;31m---------------------------------------------------------------------------\u001b[0m",
            "\u001b[0;31mTypeError\u001b[0m                                 Traceback (most recent call last)",
            "\u001b[0;32m<ipython-input-43-ca64870a9fef>\u001b[0m in \u001b[0;36m<module>\u001b[0;34m\u001b[0m\n\u001b[1;32m     11\u001b[0m     \u001b[0;32mfor\u001b[0m \u001b[0m_\u001b[0m \u001b[0;32min\u001b[0m \u001b[0mrange\u001b[0m\u001b[0;34m(\u001b[0m\u001b[0;36m100\u001b[0m\u001b[0;34m)\u001b[0m\u001b[0;34m:\u001b[0m\u001b[0;34m\u001b[0m\u001b[0;34m\u001b[0m\u001b[0m\n\u001b[1;32m     12\u001b[0m         \u001b[0mstart_time1\u001b[0m \u001b[0;34m=\u001b[0m \u001b[0mtime\u001b[0m\u001b[0;34m.\u001b[0m\u001b[0mtime\u001b[0m\u001b[0;34m(\u001b[0m\u001b[0;34m)\u001b[0m\u001b[0;34m\u001b[0m\u001b[0;34m\u001b[0m\u001b[0m\n\u001b[0;32m---> 13\u001b[0;31m         \u001b[0md1\u001b[0m \u001b[0;34m=\u001b[0m \u001b[0mdijkstra_adj_matrix_array\u001b[0m\u001b[0;34m(\u001b[0m\u001b[0mg1\u001b[0m\u001b[0;34m,\u001b[0m \u001b[0;36m0\u001b[0m\u001b[0;34m)\u001b[0m\u001b[0;34m\u001b[0m\u001b[0;34m\u001b[0m\u001b[0m\n\u001b[0m\u001b[1;32m     14\u001b[0m         \u001b[0mend_time1\u001b[0m \u001b[0;34m=\u001b[0m \u001b[0mtime\u001b[0m\u001b[0;34m.\u001b[0m\u001b[0mtime\u001b[0m\u001b[0;34m(\u001b[0m\u001b[0;34m)\u001b[0m\u001b[0;34m\u001b[0m\u001b[0;34m\u001b[0m\u001b[0m\n\u001b[1;32m     15\u001b[0m         \u001b[0mg1_times\u001b[0m\u001b[0;34m.\u001b[0m\u001b[0mappend\u001b[0m\u001b[0;34m(\u001b[0m\u001b[0mend_time1\u001b[0m\u001b[0;34m-\u001b[0m\u001b[0mstart_time1\u001b[0m\u001b[0;34m)\u001b[0m\u001b[0;34m\u001b[0m\u001b[0;34m\u001b[0m\u001b[0m\n",
            "\u001b[0;32m<ipython-input-8-fb99e46c5e60>\u001b[0m in \u001b[0;36mdijkstra_adj_matrix_array\u001b[0;34m(g, source)\u001b[0m\n\u001b[1;32m      1\u001b[0m \u001b[0;31m#function that implements the Dijkstra's algorithm for single-pair shortest path using\u001b[0m\u001b[0;34m\u001b[0m\u001b[0;34m\u001b[0m\u001b[0;34m\u001b[0m\u001b[0m\n\u001b[1;32m      2\u001b[0m \u001b[0;32mdef\u001b[0m \u001b[0mdijkstra_adj_matrix_array\u001b[0m\u001b[0;34m(\u001b[0m\u001b[0mg\u001b[0m\u001b[0;34m,\u001b[0m \u001b[0msource\u001b[0m\u001b[0;34m)\u001b[0m\u001b[0;34m:\u001b[0m\u001b[0;34m\u001b[0m\u001b[0;34m\u001b[0m\u001b[0m\n\u001b[0;32m----> 3\u001b[0;31m   \u001b[0md\u001b[0m \u001b[0;34m=\u001b[0m \u001b[0;34m[\u001b[0m\u001b[0mmath\u001b[0m\u001b[0;34m.\u001b[0m\u001b[0ming\u001b[0m \u001b[0;32mfor\u001b[0m \u001b[0mi\u001b[0m \u001b[0;32min\u001b[0m \u001b[0mrange\u001b[0m\u001b[0;34m(\u001b[0m\u001b[0mlen\u001b[0m\u001b[0;34m(\u001b[0m\u001b[0mg\u001b[0m\u001b[0;34m)\u001b[0m\u001b[0;34m)\u001b[0m\u001b[0;34m]\u001b[0m\u001b[0;34m\u001b[0m\u001b[0;34m\u001b[0m\u001b[0m\n\u001b[0m\u001b[1;32m      4\u001b[0m   \u001b[0mS\u001b[0m \u001b[0;34m=\u001b[0m \u001b[0;34m[\u001b[0m\u001b[0;36m0\u001b[0m \u001b[0;32mfor\u001b[0m \u001b[0mi\u001b[0m \u001b[0;32min\u001b[0m \u001b[0mrange\u001b[0m\u001b[0;34m(\u001b[0m\u001b[0mlen\u001b[0m\u001b[0;34m(\u001b[0m\u001b[0mg\u001b[0m\u001b[0;34m)\u001b[0m\u001b[0;34m)\u001b[0m\u001b[0;34m]\u001b[0m\u001b[0;34m\u001b[0m\u001b[0;34m\u001b[0m\u001b[0m\n\u001b[1;32m      5\u001b[0m   \u001b[0mpi\u001b[0m \u001b[0;34m=\u001b[0m \u001b[0;34m[\u001b[0m\u001b[0;34m-\u001b[0m\u001b[0;36m1\u001b[0m \u001b[0;32mfor\u001b[0m \u001b[0mx\u001b[0m \u001b[0;32min\u001b[0m \u001b[0mrange\u001b[0m\u001b[0;34m(\u001b[0m\u001b[0mlen\u001b[0m\u001b[0;34m(\u001b[0m\u001b[0mg\u001b[0m\u001b[0;34m)\u001b[0m\u001b[0;34m)\u001b[0m\u001b[0;34m]\u001b[0m\u001b[0;34m\u001b[0m\u001b[0;34m\u001b[0m\u001b[0m\n",
            "\u001b[0;31mTypeError\u001b[0m: object of type 'NoneType' has no len()"
          ]
        }
      ]
    },
    {
      "cell_type": "markdown",
      "source": [
        "When the graph is sparse, an adjacency list and a minimizing binary heap can be more efficient since it doesn't store unnecessary connections and allows for faster searching of the minimum edge weight. When the graph is dense, an adjacency matrix and array approach may be more efficient since it provides constant-time access to all edges and vertices."
      ],
      "metadata": {
        "id": "4xfR1MMVyIZN"
      }
    },
    {
      "cell_type": "code",
      "source": [
        "import time\n",
        "import matplotlib.pyplot as plt\n",
        "import numpy as np\n",
        "\n",
        "def dijkstra_runtime(g, start,algo):\n",
        "    start_time = time.time()\n",
        "    if algo == 'adj_list':\n",
        "        dijkstra_adj_list_min_heap(g, start)\n",
        "    elif algo == 'adj_matrix':\n",
        "        dijkstra_adj_matrix_array(g, start)\n",
        "    end_time = time.time()\n",
        "    return end_time - start_time\n",
        "\n",
        "# Run the experiment for sparse graph\n",
        "number_nodes = 10\n",
        "number_edges = number_nodes\n",
        "g1, g2 = make_graph(number_nodes, number_edges)\n",
        "\n",
        "sparse_adj_list_time = []\n",
        "sparse_adj_matrix_time = []\n",
        "\n",
        "for i in range(10, 101, 10):\n",
        "    number_nodes = i\n",
        "    number_edges = number_nodes\n",
        "    g1, g2 = make_graph(number_nodes, number_edges)\n",
        "    sparse_adj_list_time.append(dijkstra_runtime(g2, 0, 'adj_list'))\n",
        "    sparse_adj_matrix_time.append(dijkstra_runtime(g1, 0, 'adj_matrix'))\n",
        "\n",
        "# Plot the results\n",
        "plt.plot(range(10, 101, 10), sparse_adj_list_time, label='Adjacency list')\n",
        "plt.plot(range(10, 101, 10), sparse_adj_matrix_time, label='Adjacency matrix')\n",
        "plt.xlabel('Number of nodes')\n",
        "plt.ylabel('Execution time (s)')\n",
        "plt.title('Execution time for sparse graph')\n",
        "plt.legend()\n",
        "plt.show()\n",
        "\n",
        "# Run the experiment for dense graph\n",
        "number_nodes = 10\n",
        "number_edges = number_nodes*(number_nodes-1)//2\n",
        "g1, g2 = make_graph(number_nodes, number_edges)\n",
        "\n",
        "dense_adj_list_time = []\n",
        "dense_adj_matrix_time = []\n",
        "\n",
        "for i in range(10, 101, 10):\n",
        "    number_nodes = i\n",
        "    number_edges = number_nodes*(number_nodes-1)//2\n",
        "    g1, g2 = make_graph(number_nodes, number_edges)\n",
        "    dense_adj_list_time.append(dijkstra_runtime(g2, 0,  'adj_list'))\n",
        "    dense_adj_matrix_time.append(dijkstra_runtime(g1, 0,  'adj_matrix'))\n",
        "\n",
        "# Plot the results\n",
        "plt.plot(range(10, 101, 10), dense_adj_list_time, label='Adjacency list')\n",
        "plt.plot(range(10, 101, 10), dense_adj_matrix_time, label='Adjacency matrix')\n",
        "plt.xlabel('Number of nodes')\n",
        "plt.ylabel('Execution time (s)')\n",
        "plt.title('Execution time for dense graph')\n",
        "plt.legend()\n",
        "plt.show()\n",
        "\n",
        "# Run the experiment for average graph\n",
        "number_nodes = 10\n",
        "number_edges = number_nodes*(number_nodes-1)//4\n",
        "g1, g2 = make_graph(number_nodes, number_edges)\n",
        "\n",
        "average_adj_list_time = []\n",
        "average_adj_matrix_time = []\n",
        "\n",
        "for i in range(10, 101, 10):\n",
        "    number_nodes = i\n",
        "    number_edges = number_nodes*(number_nodes-1)//4\n",
        "    g1, g2 = make_graph(number_nodes, number_edges)\n",
        "    average_adj_list_time.append(dijkstra_runtime(g2, 0, 'adj_list'))\n",
        "    average_adj_matrix_time.append(dijkstra_runtime(g1, 0,'adj_matrix'))\n",
        "\n",
        "# Plot the results\n",
        "plt.plot(range(10, 101, 10), average_adj_list_time, label='Adjacency list')\n",
        "plt.plot(range(10, 101, 10), average_adj_matrix_time, label='Adjacency matrix')\n",
        "plt.title('Dijkstra runtime comparison for average graph')\n",
        "plt.xlabel('Number of nodes')\n",
        "plt.ylabel('Runtime (seconds)')\n",
        "plt.legend()\n",
        "plt.show()"
      ],
      "metadata": {
        "colab": {
          "base_uri": "https://localhost:8080/",
          "height": 300
        },
        "id": "lrve9OwCyMHh",
        "outputId": "1737cac5-882d-4542-b27b-e333ad9ef750"
      },
      "execution_count": null,
      "outputs": [
        {
          "output_type": "stream",
          "name": "stdout",
          "text": [
            "Impossible to generate a simple graph with %i nodes and %i edges!\n",
            "\n"
          ]
        },
        {
          "output_type": "error",
          "ename": "TypeError",
          "evalue": "ignored",
          "traceback": [
            "\u001b[0;31m---------------------------------------------------------------------------\u001b[0m",
            "\u001b[0;31mTypeError\u001b[0m                                 Traceback (most recent call last)",
            "\u001b[0;32m<ipython-input-44-ea45b0fcb9d6>\u001b[0m in \u001b[0;36m<module>\u001b[0;34m\u001b[0m\n\u001b[1;32m     15\u001b[0m \u001b[0mnumber_nodes\u001b[0m \u001b[0;34m=\u001b[0m \u001b[0;36m10\u001b[0m\u001b[0;34m\u001b[0m\u001b[0;34m\u001b[0m\u001b[0m\n\u001b[1;32m     16\u001b[0m \u001b[0mnumber_edges\u001b[0m \u001b[0;34m=\u001b[0m \u001b[0mnumber_nodes\u001b[0m\u001b[0;34m\u001b[0m\u001b[0;34m\u001b[0m\u001b[0m\n\u001b[0;32m---> 17\u001b[0;31m \u001b[0mg1\u001b[0m\u001b[0;34m,\u001b[0m \u001b[0mg2\u001b[0m \u001b[0;34m=\u001b[0m \u001b[0mmake_graph\u001b[0m\u001b[0;34m(\u001b[0m\u001b[0mnumber_nodes\u001b[0m\u001b[0;34m,\u001b[0m \u001b[0mnumber_edges\u001b[0m\u001b[0;34m)\u001b[0m\u001b[0;34m\u001b[0m\u001b[0;34m\u001b[0m\u001b[0m\n\u001b[0m\u001b[1;32m     18\u001b[0m \u001b[0;34m\u001b[0m\u001b[0m\n\u001b[1;32m     19\u001b[0m \u001b[0msparse_adj_list_time\u001b[0m \u001b[0;34m=\u001b[0m \u001b[0;34m[\u001b[0m\u001b[0;34m]\u001b[0m\u001b[0;34m\u001b[0m\u001b[0;34m\u001b[0m\u001b[0m\n",
            "\u001b[0;31mTypeError\u001b[0m: cannot unpack non-iterable NoneType object"
          ]
        }
      ]
    },
    {
      "cell_type": "markdown",
      "source": [
        "Can't prove the theoretical point..... the adj matrix is alwatys worse? but i can just flip the graph around to prove the point i guess"
      ],
      "metadata": {
        "id": "z2BdmbyXyQdx"
      }
    }
  ]
}